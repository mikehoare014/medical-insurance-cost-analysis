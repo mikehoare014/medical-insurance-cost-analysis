{
 "cells": [
  {
   "cell_type": "markdown",
   "metadata": {},
   "source": [
    "# Medical Insurance Costs Analysis\n",
    "This notebook analyzes data from [Kaggle's Medical Cost Personal Datasets](https://www.kaggle.com/datasets/mirichoi0218/insurance) and aims to answer four main questions. \n",
    "\n",
    "1. What is the average age of the patients in the dataset?\n",
    "2. Where are the patients located?\n",
    "3. Are insurance costs significantly different between smokers_df and non-smokers_df?\n",
    "4. Do children have a signficant effect of a patient's insurance cost? \n",
    "\n",
    "First, let's load the data using Pandas. "
   ]
  },
  {
   "cell_type": "code",
   "execution_count": 2,
   "metadata": {},
   "outputs": [
    {
     "data": {
      "text/html": [
       "<div>\n",
       "<style scoped>\n",
       "    .dataframe tbody tr th:only-of-type {\n",
       "        vertical-align: middle;\n",
       "    }\n",
       "\n",
       "    .dataframe tbody tr th {\n",
       "        vertical-align: top;\n",
       "    }\n",
       "\n",
       "    .dataframe thead th {\n",
       "        text-align: right;\n",
       "    }\n",
       "</style>\n",
       "<table border=\"1\" class=\"dataframe\">\n",
       "  <thead>\n",
       "    <tr style=\"text-align: right;\">\n",
       "      <th></th>\n",
       "      <th>age</th>\n",
       "      <th>sex</th>\n",
       "      <th>bmi</th>\n",
       "      <th>children</th>\n",
       "      <th>smoker</th>\n",
       "      <th>region</th>\n",
       "      <th>charges</th>\n",
       "    </tr>\n",
       "  </thead>\n",
       "  <tbody>\n",
       "    <tr>\n",
       "      <th>0</th>\n",
       "      <td>19</td>\n",
       "      <td>female</td>\n",
       "      <td>27.900</td>\n",
       "      <td>0</td>\n",
       "      <td>yes</td>\n",
       "      <td>southwest</td>\n",
       "      <td>16884.92400</td>\n",
       "    </tr>\n",
       "    <tr>\n",
       "      <th>1</th>\n",
       "      <td>18</td>\n",
       "      <td>male</td>\n",
       "      <td>33.770</td>\n",
       "      <td>1</td>\n",
       "      <td>no</td>\n",
       "      <td>southeast</td>\n",
       "      <td>1725.55230</td>\n",
       "    </tr>\n",
       "    <tr>\n",
       "      <th>2</th>\n",
       "      <td>28</td>\n",
       "      <td>male</td>\n",
       "      <td>33.000</td>\n",
       "      <td>3</td>\n",
       "      <td>no</td>\n",
       "      <td>southeast</td>\n",
       "      <td>4449.46200</td>\n",
       "    </tr>\n",
       "    <tr>\n",
       "      <th>3</th>\n",
       "      <td>33</td>\n",
       "      <td>male</td>\n",
       "      <td>22.705</td>\n",
       "      <td>0</td>\n",
       "      <td>no</td>\n",
       "      <td>northwest</td>\n",
       "      <td>21984.47061</td>\n",
       "    </tr>\n",
       "    <tr>\n",
       "      <th>4</th>\n",
       "      <td>32</td>\n",
       "      <td>male</td>\n",
       "      <td>28.880</td>\n",
       "      <td>0</td>\n",
       "      <td>no</td>\n",
       "      <td>northwest</td>\n",
       "      <td>3866.85520</td>\n",
       "    </tr>\n",
       "  </tbody>\n",
       "</table>\n",
       "</div>"
      ],
      "text/plain": [
       "   age     sex     bmi  children smoker     region      charges\n",
       "0   19  female  27.900         0    yes  southwest  16884.92400\n",
       "1   18    male  33.770         1     no  southeast   1725.55230\n",
       "2   28    male  33.000         3     no  southeast   4449.46200\n",
       "3   33    male  22.705         0     no  northwest  21984.47061\n",
       "4   32    male  28.880         0     no  northwest   3866.85520"
      ]
     },
     "execution_count": 2,
     "metadata": {},
     "output_type": "execute_result"
    }
   ],
   "source": [
    "import pandas as pd\n",
    "import seaborn as sns\n",
    "\n",
    "insurance_df = pd.read_csv('insurance.csv')\n",
    "\n",
    "insurance_df.head()"
   ]
  },
  {
   "cell_type": "markdown",
   "metadata": {},
   "source": [
    "## 1. Average age of patients\n",
    "Since the average is heavily influence by outliers, the median will also be calculated to determine if the average is a meaningful measure of central tendency. "
   ]
  },
  {
   "cell_type": "code",
   "execution_count": 3,
   "metadata": {},
   "outputs": [
    {
     "name": "stdout",
     "output_type": "stream",
     "text": [
      "The average age of patients in the dataset is 39.21\n",
      "The median age of patients in the dataset is 39.0\n"
     ]
    }
   ],
   "source": [
    "avg_age = round(insurance_df['age'].mean(), 2)\n",
    "med_age = round(insurance_df['age'].median(), 2)\n",
    "\n",
    "print(f'The average age of patients in the dataset is {avg_age}')\n",
    "print(f'The median age of patients in the dataset is {med_age}')"
   ]
  },
  {
   "cell_type": "markdown",
   "metadata": {},
   "source": [
    "Since the average and median values are very close, the average age of 39.21 for patients is a meaningful measure of central tendency in the dataset. "
   ]
  },
  {
   "cell_type": "markdown",
   "metadata": {},
   "source": [
    "## 2. Where are the patients located?\n",
    "Next, the region column will be analyze to determine where are the majority of patients are from. First, let's see what regions we are dealing with. "
   ]
  },
  {
   "cell_type": "code",
   "execution_count": 4,
   "metadata": {},
   "outputs": [
    {
     "name": "stdout",
     "output_type": "stream",
     "text": [
      "There are a total of 4 distinct regions in the dataset that include: ['southwest' 'southeast' 'northwest' 'northeast']\n"
     ]
    }
   ],
   "source": [
    "distinct_regions = insurance_df['region'].unique()\n",
    "\n",
    "print(f'There are a total of {len(distinct_regions)} distinct regions in the dataset that include: {distinct_regions}')"
   ]
  },
  {
   "cell_type": "markdown",
   "metadata": {},
   "source": [
    "Futhermore, let's determine if the majority of patients are in one region or if patients are evenly distributed among all regions. A dictionary will be created to keep the data organized. "
   ]
  },
  {
   "cell_type": "code",
   "execution_count": 5,
   "metadata": {},
   "outputs": [
    {
     "data": {
      "text/plain": [
       "{'southwest': 325, 'southeast': 364, 'northwest': 325, 'northeast': 324}"
      ]
     },
     "execution_count": 5,
     "metadata": {},
     "output_type": "execute_result"
    }
   ],
   "source": [
    "region_counts = [len(insurance_df.loc[insurance_df['region'] == reg]) for reg in distinct_regions]\n",
    "\n",
    "regions_dict = dict(zip(distinct_regions, region_counts))\n",
    "\n",
    "regions_dict"
   ]
  },
  {
   "cell_type": "markdown",
   "metadata": {},
   "source": [
    "Looks like the patients are very evently distributed over all four regions. Before moving on, let's check do a quick unit test to make sure the data is correct. All the regions row should add up to the full dataframe that was imported. Hence, let do a quick row count check.\n",
    "\n",
    "### Data Check"
   ]
  },
  {
   "cell_type": "code",
   "execution_count": 6,
   "metadata": {},
   "outputs": [
    {
     "name": "stdout",
     "output_type": "stream",
     "text": [
      "Row count matches! Insurance_df row count is: 1338 and total region count is 1338\n"
     ]
    }
   ],
   "source": [
    "insurance_df_row_count = len(insurance_df)\n",
    "all_regions_count = sum(region_counts)\n",
    "\n",
    "if insurance_df_row_count == all_regions_count:\n",
    "    print(f'Row count matches! Insurance_df row count is: {insurance_df_row_count} and total region count is {all_regions_count}')\n",
    "else:\n",
    "    print(f'Row count mismatch, data error. Insurance_df row count is: {insurance_df_row_count} and total region count is {all_regions_count}')\n"
   ]
  },
  {
   "cell_type": "markdown",
   "metadata": {},
   "source": [
    "Awesome! The row count matches. Let's visualize the data to in a bar chart to better see the data."
   ]
  },
  {
   "cell_type": "code",
   "execution_count": 7,
   "metadata": {},
   "outputs": [
    {
     "data": {
      "text/plain": [
       "Text(0, 0.5, 'Patient Count')"
      ]
     },
     "execution_count": 7,
     "metadata": {},
     "output_type": "execute_result"
    },
    {
     "data": {
      "image/png": "[encoded data removed]",
      "text/plain": [
       "<Figure size 432x288 with 1 Axes>"
      ]
     },
     "metadata": {
      "needs_background": "light"
     },
     "output_type": "display_data"
    }
   ],
   "source": [
    "# Create dataframe for easy plotting\n",
    "regions_patient_count_df = pd.DataFrame(data=regions_dict, index=[0])\n",
    "\n",
    "ax = sns.barplot(data=regions_patient_count_df, palette=\"Blues_d\")\n",
    "ax.set_title('Patient Count By Region')\n",
    "ax.set_xlabel('Region')\n",
    "ax.set_ylabel('Patient Count')\n"
   ]
  },
  {
   "cell_type": "markdown",
   "metadata": {},
   "source": [
    "Looks like the southeast region has the most patients but not my much. All regions are evenly distributed. "
   ]
  },
  {
   "cell_type": "markdown",
   "metadata": {},
   "source": [
    "## 3. Are insurance costs significantly different between smokers_df and non-smokers_df?\n",
    "This question is at the core of the project. Let's determine if smokers_df and non-smokers_df have a significant pay difference. Let's start by creating two seperate dataframes, one for smokers_df and the other for non-smokers_df. "
   ]
  },
  {
   "cell_type": "code",
   "execution_count": 8,
   "metadata": {},
   "outputs": [
    {
     "name": "stdout",
     "output_type": "stream",
     "text": [
      "Total smoker cout: 274\n",
      "Total non-smoker cout: 1064\n"
     ]
    }
   ],
   "source": [
    "smokers_df = insurance_df.loc[insurance_df['smoker'] == 'yes']\n",
    "non_smokers_df = insurance_df.loc[insurance_df['smoker'] == 'no'] \n",
    "\n",
    "print(f'Total smoker cout: {len(smokers_df)}')\n",
    "print(f'Total non-smoker cout: {len(non_smokers_df)}')"
   ]
  },
  {
   "cell_type": "code",
   "execution_count": 10,
   "metadata": {},
   "outputs": [
    {
     "name": "stdout",
     "output_type": "stream",
     "text": [
      "Average insurance cost for smokers is: $32050.23\n",
      "Median insurance cost for smokers is: $34456.35\n",
      "Average insurance cost for non-smokers is: $8434.27\n",
      "Median insurance cost for non-smokers is: $7345.41\n"
     ]
    }
   ],
   "source": [
    "avg_smoker_ins_cost = round(smokers_df['charges'].mean(), 2)\n",
    "med_smoker_ins_cost = round(smokers_df['charges'].median(), 2)\n",
    "\n",
    "avg_nonsmoker_ins_cost = round(non_smokers_df['charges'].mean(), 2)\n",
    "med_nonsmoker_ins_cost = round(non_smokers_df['charges'].median(), 2)\n",
    "\n",
    "print(f'Average insurance cost for smokers is: ${avg_smoker_ins_cost}')\n",
    "print(f'Median insurance cost for smokers is: ${med_smoker_ins_cost}')\n",
    "\n",
    "print(f'Average insurance cost for non-smokers is: ${avg_nonsmoker_ins_cost}')\n",
    "print(f'Median insurance cost for non-smokers is: ${med_nonsmoker_ins_cost}')\n"
   ]
  },
  {
   "cell_type": "markdown",
   "metadata": {},
   "source": [
    "As expected, the average insurance costs for smokers is much higer than for non-smokers. According to this datasets, smokers pay on average $34,456.23 for insurance each year which is about __75%__ higher than the non-smokers's costs of $8,434.27.\n",
    "\n",
    "The median values for both datasets are different than the average, possibly displaying some signficant outliers.  \n",
    "\n",
    "Let's visualize the data to better see the relationship between insurance cost and smoking. Age will be using as the  "
   ]
  },
  {
   "cell_type": "code",
   "execution_count": 18,
   "metadata": {},
   "outputs": [
    {
     "data": {
      "text/plain": [
       "Text(0.5, 1.0, 'Age vs. Insurance Charges')"
      ]
     },
     "execution_count": 18,
     "metadata": {},
     "output_type": "execute_result"
    },
    {
     "data": {
      "image/png": "[encoded data removed]",
      "text/plain": [
       "<Figure size 432x288 with 1 Axes>"
      ]
     },
     "metadata": {
      "needs_background": "light"
     },
     "output_type": "display_data"
    }
   ],
   "source": [
    "ax = sns.scatterplot(x='age', y='charges', data=insurance_df,\n",
    "                     hue='smoker', palette=\"Blues\")\n",
    "ax.set_title('Age vs. Insurance Charges')\n"
   ]
  },
  {
   "cell_type": "markdown",
   "metadata": {},
   "source": [
    "Looks like the average created were correct. There are two primary takeaways from this graph. First, smokers pay signficantly more for insurance, on average $26,021 more. Second, age also has affect on insurance costs. Fromt the graph, it can bee seen that as age increases, so does insurance cost. "
   ]
  },
  {
   "cell_type": "markdown",
   "metadata": {},
   "source": [
    "## 4. Do children have a signficant effect of a patient's insurance cost? \n",
    "Lastly, let's see if there a significant relationship between the number of children a patient has and insurance cost. First, let's obtain the averages for patients that have children and those who do not. \n",
    "\n",
    "\n"
   ]
  },
  {
   "cell_type": "markdown",
   "metadata": {},
   "source": [
    "# Takeaways:\n",
    "\n",
    "\n",
    "# Future Work:"
   ]
  }
 ],
 "metadata": {
  "kernelspec": {
   "display_name": "Python 3.9.7 ('base')",
   "language": "python",
   "name": "python3"
  },
  "language_info": {
   "codemirror_mode": {
    "name": "ipython",
    "version": 3
   },
   "file_extension": ".py",
   "mimetype": "text/x-python",
   "name": "python",
   "nbconvert_exporter": "python",
   "pygments_lexer": "ipython3",
   "version": "3.9.7"
  },
  "orig_nbformat": 4,
  "vscode": {
   "interpreter": {
    "hash": "cbb3f9658bbc6c5d5fd9a3f874ab1434d4f87aab3ee8ee847dcc43901ac736f8"
   }
  }
 },
 "nbformat": 4,
 "nbformat_minor": 2
}
