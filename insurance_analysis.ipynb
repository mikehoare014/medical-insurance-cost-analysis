{
 "cells": [
  {
   "cell_type": "markdown",
   "metadata": {},
   "source": [
    "# Medical Insurance Costs Analysis\n",
    "This notebook analyzes data from [Kaggle's Medical Cost Personal Datasets](https://www.kaggle.com/datasets/mirichoi0218/insurance) and aims to answer four main questions. \n",
    "\n",
    "1. What is the average age of the patients in the dataset?\n",
    "2. Where a majority of the individuals are from?\n",
    "3. Are insurance costs significantly different between smokers and non-smokers?\n",
    "4. Do children have a signficant effect of a patient's insurance cost? \n",
    "\n",
    "First, let's load the data using Pandas. "
   ]
  },
  {
   "cell_type": "code",
   "execution_count": 36,
   "metadata": {},
   "outputs": [
    {
     "data": {
      "text/html": [
       "<div>\n",
       "<style scoped>\n",
       "    .dataframe tbody tr th:only-of-type {\n",
       "        vertical-align: middle;\n",
       "    }\n",
       "\n",
       "    .dataframe tbody tr th {\n",
       "        vertical-align: top;\n",
       "    }\n",
       "\n",
       "    .dataframe thead th {\n",
       "        text-align: right;\n",
       "    }\n",
       "</style>\n",
       "<table border=\"1\" class=\"dataframe\">\n",
       "  <thead>\n",
       "    <tr style=\"text-align: right;\">\n",
       "      <th></th>\n",
       "      <th>age</th>\n",
       "      <th>sex</th>\n",
       "      <th>bmi</th>\n",
       "      <th>children</th>\n",
       "      <th>smoker</th>\n",
       "      <th>region</th>\n",
       "      <th>charges</th>\n",
       "    </tr>\n",
       "  </thead>\n",
       "  <tbody>\n",
       "    <tr>\n",
       "      <th>0</th>\n",
       "      <td>19</td>\n",
       "      <td>female</td>\n",
       "      <td>27.900</td>\n",
       "      <td>0</td>\n",
       "      <td>yes</td>\n",
       "      <td>southwest</td>\n",
       "      <td>16884.92400</td>\n",
       "    </tr>\n",
       "    <tr>\n",
       "      <th>1</th>\n",
       "      <td>18</td>\n",
       "      <td>male</td>\n",
       "      <td>33.770</td>\n",
       "      <td>1</td>\n",
       "      <td>no</td>\n",
       "      <td>southeast</td>\n",
       "      <td>1725.55230</td>\n",
       "    </tr>\n",
       "    <tr>\n",
       "      <th>2</th>\n",
       "      <td>28</td>\n",
       "      <td>male</td>\n",
       "      <td>33.000</td>\n",
       "      <td>3</td>\n",
       "      <td>no</td>\n",
       "      <td>southeast</td>\n",
       "      <td>4449.46200</td>\n",
       "    </tr>\n",
       "    <tr>\n",
       "      <th>3</th>\n",
       "      <td>33</td>\n",
       "      <td>male</td>\n",
       "      <td>22.705</td>\n",
       "      <td>0</td>\n",
       "      <td>no</td>\n",
       "      <td>northwest</td>\n",
       "      <td>21984.47061</td>\n",
       "    </tr>\n",
       "    <tr>\n",
       "      <th>4</th>\n",
       "      <td>32</td>\n",
       "      <td>male</td>\n",
       "      <td>28.880</td>\n",
       "      <td>0</td>\n",
       "      <td>no</td>\n",
       "      <td>northwest</td>\n",
       "      <td>3866.85520</td>\n",
       "    </tr>\n",
       "  </tbody>\n",
       "</table>\n",
       "</div>"
      ],
      "text/plain": [
       "   age     sex     bmi  children smoker     region      charges\n",
       "0   19  female  27.900         0    yes  southwest  16884.92400\n",
       "1   18    male  33.770         1     no  southeast   1725.55230\n",
       "2   28    male  33.000         3     no  southeast   4449.46200\n",
       "3   33    male  22.705         0     no  northwest  21984.47061\n",
       "4   32    male  28.880         0     no  northwest   3866.85520"
      ]
     },
     "execution_count": 36,
     "metadata": {},
     "output_type": "execute_result"
    }
   ],
   "source": [
    "import pandas as pd\n",
    "import seaborn as sns\n",
    "\n",
    "insurance_df = pd.read_csv('insurance.csv')\n",
    "\n",
    "insurance_df.head()"
   ]
  },
  {
   "cell_type": "markdown",
   "metadata": {},
   "source": [
    "## 1. Average age of patients\n",
    "Since the average is heavily influence by outliers, the median will also be calculated to determine if the average is a meaningful measure of central tendency. "
   ]
  },
  {
   "cell_type": "code",
   "execution_count": 31,
   "metadata": {},
   "outputs": [
    {
     "name": "stdout",
     "output_type": "stream",
     "text": [
      "The average age of patients in the dataset is 39.21\n",
      "The median age of patients in the dataset is 39.0\n"
     ]
    }
   ],
   "source": [
    "avg_age = round(insurance_df['age'].mean(), 2)\n",
    "med_age = round(insurance_df['age'].median(), 2)\n",
    "\n",
    "print(f'The average age of patients in the dataset is {avg_age}')\n",
    "print(f'The median age of patients in the dataset is {med_age}')\n"
   ]
  },
  {
   "cell_type": "markdown",
   "metadata": {},
   "source": [
    "Since the average and median values are very close, the average age of 39.21 for patients is a meaningful measure of central tendency in the dataset. "
   ]
  },
  {
   "cell_type": "markdown",
   "metadata": {},
   "source": [
    "## 2. Where a majority of the individuals are from?\n",
    "Next, the region column will be analyze to determine where are the majority of patients are from. First, let's see what regions we are dealing with. "
   ]
  },
  {
   "cell_type": "code",
   "execution_count": 32,
   "metadata": {},
   "outputs": [
    {
     "name": "stdout",
     "output_type": "stream",
     "text": [
      "There are a total of 4 distinct regions in the dataset that include: ['southwest' 'southeast' 'northwest' 'northeast']\n"
     ]
    }
   ],
   "source": [
    "distinct_regions = insurance_df['region'].unique()\n",
    "\n",
    "print(f'There are a total of {len(distinct_regions)} distinct regions in the dataset that include: {distinct_regions}')\n"
   ]
  },
  {
   "cell_type": "markdown",
   "metadata": {},
   "source": [
    "Futhermore, let's determine if the majority of patients are in a one region or if patients are evenly distributed among all regions. A dictionary will be created to keep the data organization. "
   ]
  },
  {
   "cell_type": "code",
   "execution_count": 43,
   "metadata": {},
   "outputs": [
    {
     "name": "stdout",
     "output_type": "stream",
     "text": [
      "      age     sex   bmi  children smoker     region      charges\n",
      "0      19  female  27.9         0    yes  southwest  16884.92400\n",
      "12     23    male  34.4         0     no  southwest   1826.84300\n",
      "15     19    male  24.6         1     no  southwest   1837.23700\n",
      "18     56    male  40.3         0     no  southwest  10602.38500\n",
      "19     30    male  35.3         0    yes  southwest  36837.46700\n",
      "...   ...     ...   ...       ...    ...        ...          ...\n",
      "1316   19  female  20.6         0     no  southwest   1731.67700\n",
      "1329   52    male  38.6         2     no  southwest  10325.20600\n",
      "1331   23  female  33.4         0     no  southwest  10795.93733\n",
      "1332   52  female  44.7         3     no  southwest  11411.68500\n",
      "1336   21  female  25.8         0     no  southwest   2007.94500\n",
      "\n",
      "[325 rows x 7 columns]\n",
      "      age     sex    bmi  children smoker     region     charges\n",
      "1      18    male  33.77         1     no  southeast   1725.5523\n",
      "2      28    male  33.00         3     no  southeast   4449.4620\n",
      "5      31  female  25.74         0     no  southeast   3756.6216\n",
      "6      46  female  33.44         1     no  southeast   8240.5896\n",
      "11     62  female  26.29         0    yes  southeast  27808.7251\n",
      "...   ...     ...    ...       ...    ...        ...         ...\n",
      "1322   62    male  38.83         0     no  southeast  12981.3457\n",
      "1323   42  female  40.37         2    yes  southeast  43896.3763\n",
      "1327   51    male  30.03         1     no  southeast   9377.9047\n",
      "1330   57  female  25.74         2     no  southeast  12629.1656\n",
      "1335   18  female  36.85         0     no  southeast   1629.8335\n",
      "\n",
      "[364 rows x 7 columns]\n",
      "      age     sex     bmi  children smoker     region      charges\n",
      "3      33    male  22.705         0     no  northwest  21984.47061\n",
      "4      32    male  28.880         0     no  northwest   3866.85520\n",
      "7      37  female  27.740         3     no  northwest   7281.50560\n",
      "9      60  female  25.840         0     no  northwest  28923.13692\n",
      "24     37    male  28.025         2     no  northwest   6203.90175\n",
      "...   ...     ...     ...       ...    ...        ...          ...\n",
      "1319   39  female  26.315         2     no  northwest   7201.70085\n",
      "1320   31    male  31.065         3     no  northwest   5425.02335\n",
      "1324   31    male  25.935         1     no  northwest   4239.89265\n",
      "1333   50    male  30.970         3     no  northwest  10600.54830\n",
      "1337   61  female  29.070         0    yes  northwest  29141.36030\n",
      "\n",
      "[325 rows x 7 columns]\n",
      "      age     sex     bmi  children smoker     region      charges\n",
      "8      37    male  29.830         2     no  northeast   6406.41070\n",
      "10     25    male  26.220         0     no  northeast   2721.32080\n",
      "16     52  female  30.780         1     no  northeast  10797.33620\n",
      "17     23    male  23.845         0     no  northeast   2395.17155\n",
      "20     60  female  36.005         0     no  northeast  13228.84695\n",
      "...   ...     ...     ...       ...    ...        ...          ...\n",
      "1321   62    male  26.695         0    yes  northeast  28101.33305\n",
      "1325   61    male  33.535         0     no  northeast  13143.33665\n",
      "1326   42  female  32.870         0     no  northeast   7050.02130\n",
      "1328   23  female  24.225         2     no  northeast  22395.74424\n",
      "1334   18  female  31.920         0     no  northeast   2205.98080\n",
      "\n",
      "[324 rows x 7 columns]\n"
     ]
    }
   ],
   "source": [
    "region_counts = []\n",
    "\n",
    "for reg in distinct_regions:\n",
    "    print(insurance_df.loc[insurance_df['region'] == reg])"
   ]
  },
  {
   "cell_type": "markdown",
   "metadata": {},
   "source": []
  }
 ],
 "metadata": {
  "kernelspec": {
   "display_name": "Python 3.9.7 ('base')",
   "language": "python",
   "name": "python3"
  },
  "language_info": {
   "codemirror_mode": {
    "name": "ipython",
    "version": 3
   },
   "file_extension": ".py",
   "mimetype": "text/x-python",
   "name": "python",
   "nbconvert_exporter": "python",
   "pygments_lexer": "ipython3",
   "version": "3.9.7"
  },
  "orig_nbformat": 4,
  "vscode": {
   "interpreter": {
    "hash": "cbb3f9658bbc6c5d5fd9a3f874ab1434d4f87aab3ee8ee847dcc43901ac736f8"
   }
  }
 },
 "nbformat": 4,
 "nbformat_minor": 2
}
